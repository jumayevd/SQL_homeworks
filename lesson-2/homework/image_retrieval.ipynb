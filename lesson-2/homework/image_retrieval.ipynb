{
 "cells": [
  {
   "cell_type": "code",
   "execution_count": 1,
   "metadata": {},
   "outputs": [],
   "source": [
    "import pyodbc\n"
   ]
  },
  {
   "cell_type": "code",
   "execution_count": 3,
   "metadata": {},
   "outputs": [
    {
     "name": "stdout",
     "output_type": "stream",
     "text": [
      "Image retrieved and saved as 'retrieved_image.jpg'\n"
     ]
    }
   ],
   "source": [
    "\n",
    "# Database connection\n",
    "conn = pyodbc.connect(\n",
    "    \"DRIVER={SQL Server};\"\n",
    "    \"SERVER=ASUS-VivoBook\\SQLEXPRESS;\"\n",
    "    \"DATABASE=lesson2;\"\n",
    "    \"Trusted_Connection=yes;\"\n",
    ")\n",
    "cursor = conn.cursor()\n",
    "cursor.execute(\"SELECT * FROM photos\")\n",
    "row = cursor.fetchone()\n",
    "image_id, image_data = row\n",
    "\n",
    "if row:\n",
    "    with open(\"random_image.jpg\", \"wb\") as file:\n",
    "        file.write(image_data)  \n",
    "    print(\"Image retrieved and saved as 'retrieved_image.jpg'\")\n",
    "else:\n",
    "    print(\"No image found.\")\n",
    "\n",
    "# Close connection\n",
    "conn.close()\n"
   ]
  },
  {
   "cell_type": "code",
   "execution_count": null,
   "metadata": {},
   "outputs": [
    {
     "name": "stdout",
     "output_type": "stream",
     "text": [
      "CSV file created successfully!\n"
     ]
    }
   ],
   "source": [
    "import pandas as pd\n",
    "\n",
    "# Creating data\n",
    "data = {\n",
    "    \"id\": [1, 2, 3, 4, 5],\n",
    "    \"name\": [\"Doniyor\", \"Ruxshona\", \"Muhammad\", \"Fotima\", \"Unknown\"]\n",
    "}\n",
    "\n",
    "# Converting to DataFrame\n",
    "df = pd.DataFrame(data)\n",
    "\n",
    "# Saving to CSV\n",
    "df.to_csv(\"workers.csv\", index=False)\n",
    "\n",
    "print(\"CSV file created successfully!\")\n"
   ]
  }
 ],
 "metadata": {
  "kernelspec": {
   "display_name": "base",
   "language": "python",
   "name": "python3"
  },
  "language_info": {
   "codemirror_mode": {
    "name": "ipython",
    "version": 3
   },
   "file_extension": ".py",
   "mimetype": "text/x-python",
   "name": "python",
   "nbconvert_exporter": "python",
   "pygments_lexer": "ipython3",
   "version": "3.11.7"
  }
 },
 "nbformat": 4,
 "nbformat_minor": 2
}
